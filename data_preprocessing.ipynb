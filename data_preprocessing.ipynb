{
 "cells": [
  {
   "cell_type": "markdown",
   "metadata": {},
   "source": [
    "Load Pandas library"
   ]
  },
  {
   "cell_type": "code",
   "execution_count": 272,
   "metadata": {},
   "outputs": [],
   "source": [
    "import pandas as pd\n",
    "import datetime"
   ]
  },
  {
   "cell_type": "markdown",
   "metadata": {},
   "source": [
    "Load the csv file\n"
   ]
  },
  {
   "cell_type": "code",
   "execution_count": 273,
   "metadata": {},
   "outputs": [],
   "source": [
    "df= pd.read_csv(\"data4preprocessing.csv\")"
   ]
  },
  {
   "cell_type": "markdown",
   "metadata": {},
   "source": [
    "View first five rows of the data frame"
   ]
  },
  {
   "cell_type": "code",
   "execution_count": 275,
   "metadata": {},
   "outputs": [
    {
     "name": "stdout",
     "output_type": "stream",
     "text": [
      "           Datetime  AEP_MW\n",
      "0  2004/12/31 01:00   13478\n",
      "1  2004/12/31 02:00   12865\n",
      "2  2004/12/31 03:00   12577\n",
      "3  2004/12/31 04:00   12517\n",
      "4  2004/12/31 05:00   12670\n"
     ]
    },
    {
     "data": {
      "text/plain": [
       "Datetime    object\n",
       "AEP_MW       int64\n",
       "dtype: object"
      ]
     },
     "execution_count": 275,
     "metadata": {},
     "output_type": "execute_result"
    }
   ],
   "source": [
    "print(df.head())\n",
    "df.dtypes"
   ]
  },
  {
   "cell_type": "markdown",
   "metadata": {},
   "source": [
    "View the classes of the dataframe columns"
   ]
  },
  {
   "cell_type": "code",
   "execution_count": 276,
   "metadata": {},
   "outputs": [
    {
     "data": {
      "text/html": [
       "<div>\n",
       "<style scoped>\n",
       "    .dataframe tbody tr th:only-of-type {\n",
       "        vertical-align: middle;\n",
       "    }\n",
       "\n",
       "    .dataframe tbody tr th {\n",
       "        vertical-align: top;\n",
       "    }\n",
       "\n",
       "    .dataframe thead th {\n",
       "        text-align: right;\n",
       "    }\n",
       "</style>\n",
       "<table border=\"1\" class=\"dataframe\">\n",
       "  <thead>\n",
       "    <tr style=\"text-align: right;\">\n",
       "      <th></th>\n",
       "      <th>Datetime</th>\n",
       "      <th>AEP_MW</th>\n",
       "    </tr>\n",
       "  </thead>\n",
       "  <tbody>\n",
       "    <tr>\n",
       "      <td>2019</td>\n",
       "      <td>2004-10-01 01:00:00</td>\n",
       "      <td>12379</td>\n",
       "    </tr>\n",
       "    <tr>\n",
       "      <td>2020</td>\n",
       "      <td>2004-10-01 02:00:00</td>\n",
       "      <td>11935</td>\n",
       "    </tr>\n",
       "    <tr>\n",
       "      <td>2021</td>\n",
       "      <td>2004-10-01 03:00:00</td>\n",
       "      <td>11692</td>\n",
       "    </tr>\n",
       "    <tr>\n",
       "      <td>2022</td>\n",
       "      <td>2004-10-01 04:00:00</td>\n",
       "      <td>11597</td>\n",
       "    </tr>\n",
       "    <tr>\n",
       "      <td>2023</td>\n",
       "      <td>2004-10-01 05:00:00</td>\n",
       "      <td>11681</td>\n",
       "    </tr>\n",
       "    <tr>\n",
       "      <td>...</td>\n",
       "      <td>...</td>\n",
       "      <td>...</td>\n",
       "    </tr>\n",
       "    <tr>\n",
       "      <td>89689</td>\n",
       "      <td>2015-12-31 20:00:00</td>\n",
       "      <td>15030</td>\n",
       "    </tr>\n",
       "    <tr>\n",
       "      <td>89690</td>\n",
       "      <td>2015-12-31 21:00:00</td>\n",
       "      <td>14642</td>\n",
       "    </tr>\n",
       "    <tr>\n",
       "      <td>89691</td>\n",
       "      <td>2015-12-31 22:00:00</td>\n",
       "      <td>14212</td>\n",
       "    </tr>\n",
       "    <tr>\n",
       "      <td>89692</td>\n",
       "      <td>2015-12-31 23:00:00</td>\n",
       "      <td>13843</td>\n",
       "    </tr>\n",
       "    <tr>\n",
       "      <td>89693</td>\n",
       "      <td>2016-01-01 00:00:00</td>\n",
       "      <td>13487</td>\n",
       "    </tr>\n",
       "  </tbody>\n",
       "</table>\n",
       "<p>97862 rows × 2 columns</p>\n",
       "</div>"
      ],
      "text/plain": [
       "                 Datetime  AEP_MW\n",
       "2019  2004-10-01 01:00:00   12379\n",
       "2020  2004-10-01 02:00:00   11935\n",
       "2021  2004-10-01 03:00:00   11692\n",
       "2022  2004-10-01 04:00:00   11597\n",
       "2023  2004-10-01 05:00:00   11681\n",
       "...                   ...     ...\n",
       "89689 2015-12-31 20:00:00   15030\n",
       "89690 2015-12-31 21:00:00   14642\n",
       "89691 2015-12-31 22:00:00   14212\n",
       "89692 2015-12-31 23:00:00   13843\n",
       "89693 2016-01-01 00:00:00   13487\n",
       "\n",
       "[97862 rows x 2 columns]"
      ]
     },
     "execution_count": 276,
     "metadata": {},
     "output_type": "execute_result"
    }
   ],
   "source": [
    "df= pd.read_csv(\"data4preprocessing.csv\")\n",
    "df.head()\n",
    "df.describe\n",
    "df.dtypes\n",
    "timestamp_date_rng= pd.to_datetime(df['Datetime'], infer_datetime_format=True)\n",
    "df['Datetime']=timestamp_date_rng\n",
    "df.head()\n",
    "df.dtypes\n",
    "df=df.sort_values('Datetime')\n",
    "df"
   ]
  },
  {
   "cell_type": "code",
   "execution_count": 277,
   "metadata": {},
   "outputs": [
    {
     "data": {
      "text/html": [
       "<div>\n",
       "<style scoped>\n",
       "    .dataframe tbody tr th:only-of-type {\n",
       "        vertical-align: middle;\n",
       "    }\n",
       "\n",
       "    .dataframe tbody tr th {\n",
       "        vertical-align: top;\n",
       "    }\n",
       "\n",
       "    .dataframe thead th {\n",
       "        text-align: right;\n",
       "    }\n",
       "</style>\n",
       "<table border=\"1\" class=\"dataframe\">\n",
       "  <thead>\n",
       "    <tr style=\"text-align: right;\">\n",
       "      <th></th>\n",
       "      <th>Datetime</th>\n",
       "      <th>AEP_MW</th>\n",
       "    </tr>\n",
       "  </thead>\n",
       "  <tbody>\n",
       "    <tr>\n",
       "      <td>0</td>\n",
       "      <td>2004-10-01 01:00:00</td>\n",
       "      <td>12379.0</td>\n",
       "    </tr>\n",
       "    <tr>\n",
       "      <td>1</td>\n",
       "      <td>2004-10-01 02:00:00</td>\n",
       "      <td>11935.0</td>\n",
       "    </tr>\n",
       "    <tr>\n",
       "      <td>2</td>\n",
       "      <td>2004-10-01 03:00:00</td>\n",
       "      <td>11692.0</td>\n",
       "    </tr>\n",
       "    <tr>\n",
       "      <td>3</td>\n",
       "      <td>2004-10-01 04:00:00</td>\n",
       "      <td>11597.0</td>\n",
       "    </tr>\n",
       "    <tr>\n",
       "      <td>4</td>\n",
       "      <td>2004-10-01 05:00:00</td>\n",
       "      <td>11681.0</td>\n",
       "    </tr>\n",
       "    <tr>\n",
       "      <td>...</td>\n",
       "      <td>...</td>\n",
       "      <td>...</td>\n",
       "    </tr>\n",
       "    <tr>\n",
       "      <td>97855</td>\n",
       "      <td>2015-12-31 20:00:00</td>\n",
       "      <td>15030.0</td>\n",
       "    </tr>\n",
       "    <tr>\n",
       "      <td>97856</td>\n",
       "      <td>2015-12-31 21:00:00</td>\n",
       "      <td>14642.0</td>\n",
       "    </tr>\n",
       "    <tr>\n",
       "      <td>97857</td>\n",
       "      <td>2015-12-31 22:00:00</td>\n",
       "      <td>14212.0</td>\n",
       "    </tr>\n",
       "    <tr>\n",
       "      <td>97858</td>\n",
       "      <td>2015-12-31 23:00:00</td>\n",
       "      <td>13843.0</td>\n",
       "    </tr>\n",
       "    <tr>\n",
       "      <td>97859</td>\n",
       "      <td>2016-01-01 00:00:00</td>\n",
       "      <td>13487.0</td>\n",
       "    </tr>\n",
       "  </tbody>\n",
       "</table>\n",
       "<p>97860 rows × 2 columns</p>\n",
       "</div>"
      ],
      "text/plain": [
       "                 Datetime   AEP_MW\n",
       "0     2004-10-01 01:00:00  12379.0\n",
       "1     2004-10-01 02:00:00  11935.0\n",
       "2     2004-10-01 03:00:00  11692.0\n",
       "3     2004-10-01 04:00:00  11597.0\n",
       "4     2004-10-01 05:00:00  11681.0\n",
       "...                   ...      ...\n",
       "97855 2015-12-31 20:00:00  15030.0\n",
       "97856 2015-12-31 21:00:00  14642.0\n",
       "97857 2015-12-31 22:00:00  14212.0\n",
       "97858 2015-12-31 23:00:00  13843.0\n",
       "97859 2016-01-01 00:00:00  13487.0\n",
       "\n",
       "[97860 rows x 2 columns]"
      ]
     },
     "execution_count": 277,
     "metadata": {},
     "output_type": "execute_result"
    }
   ],
   "source": [
    "df=df.groupby('Datetime', group_keys=False).mean().reset_index()\n",
    "df"
   ]
  },
  {
   "cell_type": "code",
   "execution_count": null,
   "metadata": {},
   "outputs": [],
   "source": []
  },
  {
   "cell_type": "markdown",
   "metadata": {},
   "source": [
    "Create a new data frame all date times"
   ]
  },
  {
   "cell_type": "code",
   "execution_count": 278,
   "metadata": {},
   "outputs": [
    {
     "data": {
      "text/html": [
       "<div>\n",
       "<style scoped>\n",
       "    .dataframe tbody tr th:only-of-type {\n",
       "        vertical-align: middle;\n",
       "    }\n",
       "\n",
       "    .dataframe tbody tr th {\n",
       "        vertical-align: top;\n",
       "    }\n",
       "\n",
       "    .dataframe thead th {\n",
       "        text-align: right;\n",
       "    }\n",
       "</style>\n",
       "<table border=\"1\" class=\"dataframe\">\n",
       "  <thead>\n",
       "    <tr style=\"text-align: right;\">\n",
       "      <th></th>\n",
       "      <th>Datetime</th>\n",
       "      <th>AEP_MW</th>\n",
       "    </tr>\n",
       "  </thead>\n",
       "  <tbody>\n",
       "    <tr>\n",
       "      <td>0</td>\n",
       "      <td>2004-10-01 01:00:00</td>\n",
       "      <td>0</td>\n",
       "    </tr>\n",
       "    <tr>\n",
       "      <td>1</td>\n",
       "      <td>2004-10-01 02:00:00</td>\n",
       "      <td>0</td>\n",
       "    </tr>\n",
       "    <tr>\n",
       "      <td>2</td>\n",
       "      <td>2004-10-01 03:00:00</td>\n",
       "      <td>0</td>\n",
       "    </tr>\n",
       "    <tr>\n",
       "      <td>3</td>\n",
       "      <td>2004-10-01 04:00:00</td>\n",
       "      <td>0</td>\n",
       "    </tr>\n",
       "    <tr>\n",
       "      <td>4</td>\n",
       "      <td>2004-10-01 05:00:00</td>\n",
       "      <td>0</td>\n",
       "    </tr>\n",
       "    <tr>\n",
       "      <td>...</td>\n",
       "      <td>...</td>\n",
       "      <td>...</td>\n",
       "    </tr>\n",
       "    <tr>\n",
       "      <td>98611</td>\n",
       "      <td>2015-12-31 20:00:00</td>\n",
       "      <td>0</td>\n",
       "    </tr>\n",
       "    <tr>\n",
       "      <td>98612</td>\n",
       "      <td>2015-12-31 21:00:00</td>\n",
       "      <td>0</td>\n",
       "    </tr>\n",
       "    <tr>\n",
       "      <td>98613</td>\n",
       "      <td>2015-12-31 22:00:00</td>\n",
       "      <td>0</td>\n",
       "    </tr>\n",
       "    <tr>\n",
       "      <td>98614</td>\n",
       "      <td>2015-12-31 23:00:00</td>\n",
       "      <td>0</td>\n",
       "    </tr>\n",
       "    <tr>\n",
       "      <td>98615</td>\n",
       "      <td>2016-01-01 00:00:00</td>\n",
       "      <td>0</td>\n",
       "    </tr>\n",
       "  </tbody>\n",
       "</table>\n",
       "<p>98616 rows × 2 columns</p>\n",
       "</div>"
      ],
      "text/plain": [
       "                 Datetime  AEP_MW\n",
       "0     2004-10-01 01:00:00       0\n",
       "1     2004-10-01 02:00:00       0\n",
       "2     2004-10-01 03:00:00       0\n",
       "3     2004-10-01 04:00:00       0\n",
       "4     2004-10-01 05:00:00       0\n",
       "...                   ...     ...\n",
       "98611 2015-12-31 20:00:00       0\n",
       "98612 2015-12-31 21:00:00       0\n",
       "98613 2015-12-31 22:00:00       0\n",
       "98614 2015-12-31 23:00:00       0\n",
       "98615 2016-01-01 00:00:00       0\n",
       "\n",
       "[98616 rows x 2 columns]"
      ]
     },
     "execution_count": 278,
     "metadata": {},
     "output_type": "execute_result"
    }
   ],
   "source": [
    "df2=pd.date_range(start=df['Datetime'].min(), end=df['Datetime'].max(),freq=\"H\")\n",
    "val=[0]*len(df2)\n",
    "val\n",
    "d={'Datetime':df2,'AEP_MW':val}\n",
    "final_data=pd.DataFrame(data=d)\n",
    "final_data"
   ]
  },
  {
   "cell_type": "markdown",
   "metadata": {},
   "source": [
    "Now we need to find entries of datetime in final_data which are there in df\n"
   ]
  },
  {
   "cell_type": "code",
   "execution_count": 279,
   "metadata": {},
   "outputs": [
    {
     "name": "stderr",
     "output_type": "stream",
     "text": [
      "C:\\Users\\simrita\\Anaconda3\\lib\\site-packages\\ipykernel_launcher.py:6: SettingWithCopyWarning: \n",
      "A value is trying to be set on a copy of a slice from a DataFrame\n",
      "\n",
      "See the caveats in the documentation: http://pandas.pydata.org/pandas-docs/stable/user_guide/indexing.html#returning-a-view-versus-a-copy\n",
      "  \n"
     ]
    }
   ],
   "source": [
    "it1=df['Datetime'].isin(final_data['Datetime'])\n",
    "it2=final_data['Datetime'].isin(df['Datetime'])\n",
    "len(df['AEP_MW'][it1])\n",
    "len(final_data['AEP_MW'][it2])\n",
    "x=final_data\n",
    "x['AEP_MW'][it2]=(final_data.loc[final_data.index[it2]]['AEP_MW']).values+df['AEP_MW'].values\n",
    "final_data=x\n"
   ]
  },
  {
   "cell_type": "markdown",
   "metadata": {},
   "source": [
    "Changing the format of a date\n"
   ]
  },
  {
   "cell_type": "code",
   "execution_count": 280,
   "metadata": {},
   "outputs": [
    {
     "data": {
      "text/html": [
       "<div>\n",
       "<style scoped>\n",
       "    .dataframe tbody tr th:only-of-type {\n",
       "        vertical-align: middle;\n",
       "    }\n",
       "\n",
       "    .dataframe tbody tr th {\n",
       "        vertical-align: top;\n",
       "    }\n",
       "\n",
       "    .dataframe thead th {\n",
       "        text-align: right;\n",
       "    }\n",
       "</style>\n",
       "<table border=\"1\" class=\"dataframe\">\n",
       "  <thead>\n",
       "    <tr style=\"text-align: right;\">\n",
       "      <th></th>\n",
       "      <th>Datetime</th>\n",
       "      <th>AEP_MW</th>\n",
       "    </tr>\n",
       "  </thead>\n",
       "  <tbody>\n",
       "    <tr>\n",
       "      <td>0</td>\n",
       "      <td>2004-10-01 01:00:00</td>\n",
       "      <td>12379</td>\n",
       "    </tr>\n",
       "    <tr>\n",
       "      <td>1</td>\n",
       "      <td>2004-10-01 02:00:00</td>\n",
       "      <td>11935</td>\n",
       "    </tr>\n",
       "    <tr>\n",
       "      <td>2</td>\n",
       "      <td>2004-10-01 03:00:00</td>\n",
       "      <td>11692</td>\n",
       "    </tr>\n",
       "    <tr>\n",
       "      <td>3</td>\n",
       "      <td>2004-10-01 04:00:00</td>\n",
       "      <td>11597</td>\n",
       "    </tr>\n",
       "    <tr>\n",
       "      <td>4</td>\n",
       "      <td>2004-10-01 05:00:00</td>\n",
       "      <td>11681</td>\n",
       "    </tr>\n",
       "    <tr>\n",
       "      <td>...</td>\n",
       "      <td>...</td>\n",
       "      <td>...</td>\n",
       "    </tr>\n",
       "    <tr>\n",
       "      <td>98611</td>\n",
       "      <td>2015-12-31 20:00:00</td>\n",
       "      <td>15030</td>\n",
       "    </tr>\n",
       "    <tr>\n",
       "      <td>98612</td>\n",
       "      <td>2015-12-31 21:00:00</td>\n",
       "      <td>14642</td>\n",
       "    </tr>\n",
       "    <tr>\n",
       "      <td>98613</td>\n",
       "      <td>2015-12-31 22:00:00</td>\n",
       "      <td>14212</td>\n",
       "    </tr>\n",
       "    <tr>\n",
       "      <td>98614</td>\n",
       "      <td>2015-12-31 23:00:00</td>\n",
       "      <td>13843</td>\n",
       "    </tr>\n",
       "    <tr>\n",
       "      <td>98615</td>\n",
       "      <td>2016-01-01 00:00:00</td>\n",
       "      <td>13487</td>\n",
       "    </tr>\n",
       "  </tbody>\n",
       "</table>\n",
       "<p>98616 rows × 2 columns</p>\n",
       "</div>"
      ],
      "text/plain": [
       "                 Datetime  AEP_MW\n",
       "0     2004-10-01 01:00:00   12379\n",
       "1     2004-10-01 02:00:00   11935\n",
       "2     2004-10-01 03:00:00   11692\n",
       "3     2004-10-01 04:00:00   11597\n",
       "4     2004-10-01 05:00:00   11681\n",
       "...                   ...     ...\n",
       "98611 2015-12-31 20:00:00   15030\n",
       "98612 2015-12-31 21:00:00   14642\n",
       "98613 2015-12-31 22:00:00   14212\n",
       "98614 2015-12-31 23:00:00   13843\n",
       "98615 2016-01-01 00:00:00   13487\n",
       "\n",
       "[98616 rows x 2 columns]"
      ]
     },
     "execution_count": 280,
     "metadata": {},
     "output_type": "execute_result"
    }
   ],
   "source": [
    "final_data"
   ]
  },
  {
   "cell_type": "code",
   "execution_count": null,
   "metadata": {},
   "outputs": [],
   "source": []
  },
  {
   "cell_type": "code",
   "execution_count": 281,
   "metadata": {},
   "outputs": [],
   "source": [
    "\n",
    "final_data['Datetime']=final_data['Datetime'].dt.strftime('%Y-%m-%d %H:%M:%S')\n",
    "\n"
   ]
  },
  {
   "cell_type": "markdown",
   "metadata": {},
   "source": [
    "Changing the format of all the enteries of the Datetime column"
   ]
  },
  {
   "cell_type": "code",
   "execution_count": 282,
   "metadata": {},
   "outputs": [
    {
     "data": {
      "text/html": [
       "<div>\n",
       "<style scoped>\n",
       "    .dataframe tbody tr th:only-of-type {\n",
       "        vertical-align: middle;\n",
       "    }\n",
       "\n",
       "    .dataframe tbody tr th {\n",
       "        vertical-align: top;\n",
       "    }\n",
       "\n",
       "    .dataframe thead th {\n",
       "        text-align: right;\n",
       "    }\n",
       "</style>\n",
       "<table border=\"1\" class=\"dataframe\">\n",
       "  <thead>\n",
       "    <tr style=\"text-align: right;\">\n",
       "      <th></th>\n",
       "      <th>Datetime</th>\n",
       "      <th>AEP_MW</th>\n",
       "    </tr>\n",
       "  </thead>\n",
       "  <tbody>\n",
       "    <tr>\n",
       "      <td>0</td>\n",
       "      <td>2004-10-01 01:00:00</td>\n",
       "      <td>12379</td>\n",
       "    </tr>\n",
       "    <tr>\n",
       "      <td>1</td>\n",
       "      <td>2004-10-01 02:00:00</td>\n",
       "      <td>11935</td>\n",
       "    </tr>\n",
       "    <tr>\n",
       "      <td>2</td>\n",
       "      <td>2004-10-01 03:00:00</td>\n",
       "      <td>11692</td>\n",
       "    </tr>\n",
       "    <tr>\n",
       "      <td>3</td>\n",
       "      <td>2004-10-01 04:00:00</td>\n",
       "      <td>11597</td>\n",
       "    </tr>\n",
       "    <tr>\n",
       "      <td>4</td>\n",
       "      <td>2004-10-01 05:00:00</td>\n",
       "      <td>11681</td>\n",
       "    </tr>\n",
       "    <tr>\n",
       "      <td>...</td>\n",
       "      <td>...</td>\n",
       "      <td>...</td>\n",
       "    </tr>\n",
       "    <tr>\n",
       "      <td>98611</td>\n",
       "      <td>2015-12-31 20:00:00</td>\n",
       "      <td>15030</td>\n",
       "    </tr>\n",
       "    <tr>\n",
       "      <td>98612</td>\n",
       "      <td>2015-12-31 21:00:00</td>\n",
       "      <td>14642</td>\n",
       "    </tr>\n",
       "    <tr>\n",
       "      <td>98613</td>\n",
       "      <td>2015-12-31 22:00:00</td>\n",
       "      <td>14212</td>\n",
       "    </tr>\n",
       "    <tr>\n",
       "      <td>98614</td>\n",
       "      <td>2015-12-31 23:00:00</td>\n",
       "      <td>13843</td>\n",
       "    </tr>\n",
       "    <tr>\n",
       "      <td>98615</td>\n",
       "      <td>2016-01-01 00:00:00</td>\n",
       "      <td>13487</td>\n",
       "    </tr>\n",
       "  </tbody>\n",
       "</table>\n",
       "<p>98616 rows × 2 columns</p>\n",
       "</div>"
      ],
      "text/plain": [
       "                  Datetime  AEP_MW\n",
       "0      2004-10-01 01:00:00   12379\n",
       "1      2004-10-01 02:00:00   11935\n",
       "2      2004-10-01 03:00:00   11692\n",
       "3      2004-10-01 04:00:00   11597\n",
       "4      2004-10-01 05:00:00   11681\n",
       "...                    ...     ...\n",
       "98611  2015-12-31 20:00:00   15030\n",
       "98612  2015-12-31 21:00:00   14642\n",
       "98613  2015-12-31 22:00:00   14212\n",
       "98614  2015-12-31 23:00:00   13843\n",
       "98615  2016-01-01 00:00:00   13487\n",
       "\n",
       "[98616 rows x 2 columns]"
      ]
     },
     "execution_count": 282,
     "metadata": {},
     "output_type": "execute_result"
    }
   ],
   "source": [
    "final_data"
   ]
  },
  {
   "cell_type": "code",
   "execution_count": 283,
   "metadata": {},
   "outputs": [],
   "source": [
    "final_data.to_csv(\"final_data.csv\")"
   ]
  },
  {
   "cell_type": "code",
   "execution_count": null,
   "metadata": {},
   "outputs": [],
   "source": []
  },
  {
   "cell_type": "code",
   "execution_count": null,
   "metadata": {},
   "outputs": [],
   "source": [
    "\n"
   ]
  },
  {
   "cell_type": "code",
   "execution_count": null,
   "metadata": {},
   "outputs": [],
   "source": []
  },
  {
   "cell_type": "code",
   "execution_count": null,
   "metadata": {},
   "outputs": [],
   "source": []
  },
  {
   "cell_type": "code",
   "execution_count": null,
   "metadata": {},
   "outputs": [],
   "source": []
  },
  {
   "cell_type": "code",
   "execution_count": null,
   "metadata": {},
   "outputs": [],
   "source": []
  },
  {
   "cell_type": "code",
   "execution_count": null,
   "metadata": {},
   "outputs": [],
   "source": [
    "\n"
   ]
  },
  {
   "cell_type": "code",
   "execution_count": null,
   "metadata": {},
   "outputs": [],
   "source": []
  },
  {
   "cell_type": "code",
   "execution_count": null,
   "metadata": {},
   "outputs": [],
   "source": [
    "\n"
   ]
  },
  {
   "cell_type": "code",
   "execution_count": null,
   "metadata": {},
   "outputs": [],
   "source": []
  }
 ],
 "metadata": {
  "kernelspec": {
   "display_name": "Python 3",
   "language": "python",
   "name": "python3"
  },
  "language_info": {
   "codemirror_mode": {
    "name": "ipython",
    "version": 3
   },
   "file_extension": ".py",
   "mimetype": "text/x-python",
   "name": "python",
   "nbconvert_exporter": "python",
   "pygments_lexer": "ipython3",
   "version": "3.7.4"
  }
 },
 "nbformat": 4,
 "nbformat_minor": 2
}
